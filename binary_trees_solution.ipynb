{
  "nbformat": 4,
  "nbformat_minor": 0,
  "metadata": {
    "colab": {
      "name": "binary trees solution.ipynb",
      "provenance": [],
      "authorship_tag": "ABX9TyPoI71sUShmGX8K3/2xzgex",
      "include_colab_link": true
    },
    "kernelspec": {
      "name": "python3",
      "display_name": "Python 3"
    },
    "language_info": {
      "name": "python"
    }
  },
  "cells": [
    {
      "cell_type": "markdown",
      "metadata": {
        "id": "view-in-github",
        "colab_type": "text"
      },
      "source": [
        "<a href=\"https://colab.research.google.com/github/rohan-gopalam/shsctf-solutions/blob/main/binary_trees_solution.ipynb\" target=\"_parent\"><img src=\"https://colab.research.google.com/assets/colab-badge.svg\" alt=\"Open In Colab\"/></a>"
      ]
    },
    {
      "cell_type": "code",
      "execution_count": 2,
      "metadata": {
        "colab": {
          "base_uri": "https://localhost:8080/"
        },
        "id": "togZjWpIypcr",
        "outputId": "e96279ac-1c8d-4e79-bcf1-94c34986db9a"
      },
      "outputs": [
        {
          "output_type": "stream",
          "name": "stdout",
          "text": [
            "shsctf{ 5122292 }\n"
          ]
        }
      ],
      "source": [
        "#binary tree solution\n",
        "#Given a list of pairs containing a node and its parent in a binary tree, \n",
        "#find the sum of all node values at height 10 in the binary tree. \n",
        "#The first line of input contains N, the number of pairs, \n",
        "#followed by N lines each containing the child node first and its parent node next. \n",
        "#Enter answers in the form of shsctf{answer}\n",
        "\n",
        "#top parent is 9384 with the tester data set\n",
        "\n",
        "\n",
        "def find_height(d, starter, c):\n",
        "  \n",
        "  \n",
        "  ctr = c+1\n",
        "  if ctr<12:\n",
        "    \n",
        "    temp = d.get(starter)\n",
        "    if d.get(temp) == 9384 and ctr == 9:\n",
        "      return True\n",
        "    else:\n",
        "      x = find_height(d, temp, ctr)\n",
        "      return x\n",
        "  else:\n",
        "    return False\n",
        "\n",
        "file1 = open('binary-tree-1.txt', 'r')\n",
        "Lines = file1.readlines()\n",
        "splitted = {}\n",
        "heights = {}\n",
        "child = []\n",
        "parent = []\n",
        "for i in range (1, len(Lines)):\n",
        "  line = Lines[i].split()\n",
        "  splitted[int(line[0])] = int(line[1])\n",
        "  child.append(line[0])\n",
        "  parent.append(line[1])\n",
        "\n",
        "#this is used to find the top parent\n",
        "#for i in range (len(parent)):\n",
        "  #b = False\n",
        "  #for j in range (len(child)):\n",
        "    #if parent[i] == child[j]:\n",
        "     # b = True\n",
        "      \n",
        "  #if b == False:\n",
        "   # print(\"Main dad: \", parent[i])\n",
        "    #print(\"Second main dad: \", child[i])\n",
        "\n",
        "in_row = 0\n",
        "nodes = 0\n",
        "for i in range (len(child)):\n",
        "  y = find_height(splitted, int(child[i]), 0)\n",
        "  if y == True:\n",
        "    in_row += int(child[i])\n",
        "    nodes += y\n",
        "print(\"shsctf{\",in_row,\"}\")"
      ]
    }
  ]
}