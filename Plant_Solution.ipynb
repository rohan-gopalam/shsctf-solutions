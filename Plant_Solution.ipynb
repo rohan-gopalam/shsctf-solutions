{
  "nbformat": 4,
  "nbformat_minor": 0,
  "metadata": {
    "colab": {
      "name": "Plant Solution",
      "provenance": [],
      "authorship_tag": "ABX9TyMag0ugwLjlsfhdDNJD25n0",
      "include_colab_link": true
    },
    "kernelspec": {
      "name": "python3",
      "display_name": "Python 3"
    },
    "language_info": {
      "name": "python"
    }
  },
  "cells": [
    {
      "cell_type": "markdown",
      "metadata": {
        "id": "view-in-github",
        "colab_type": "text"
      },
      "source": [
        "<a href=\"https://colab.research.google.com/github/rohan-gopalam/shsctf-solutions/blob/main/Plant_Solution.ipynb\" target=\"_parent\"><img src=\"https://colab.research.google.com/assets/colab-badge.svg\" alt=\"Open In Colab\"/></a>"
      ]
    },
    {
      "cell_type": "code",
      "execution_count": 2,
      "metadata": {
        "colab": {
          "base_uri": "https://localhost:8080/"
        },
        "id": "dOJbTfuewbAD",
        "outputId": "bf4d4b8d-5f28-4520-92a1-37914b8f9df1"
      },
      "outputs": [
        {
          "output_type": "stream",
          "name": "stdout",
          "text": [
            "shsctf{ 249975769024 }\n"
          ]
        }
      ],
      "source": [
        "#Plant\n",
        "#Problem: Bob has severe OCD and hates it when his plants are out of order. \n",
        "#He wants his plants sorted from shortest to tallest going from left to right, \n",
        "#and every pair of plants where a shorter plant is to the right of a taller plant makes him 1 unit angrier. \n",
        "#Find how angry Bob is mod 10^9 + 7. The test case gives N, the number of plants, \n",
        "#followed by the heights of the plants from left to right on the next line. \n",
        "#Enter answers in the form of shsctf{answer}\n",
        "\n",
        "\n",
        "def mergeSort (arr, n):\n",
        "  temp_arr = [0] * n\n",
        "  return _mergeSort (arr, temp_arr, \n",
        "                     0, n-1)\n",
        "\n",
        "def _mergeSort(arr, temp_arr, left, right):\n",
        "  inv_count = 0\n",
        "  if left<right:\n",
        "\n",
        "    mid = (left + right) // 2\n",
        "\n",
        "    inv_count += _mergeSort(arr, temp_arr, left, mid)\n",
        "    inv_count += _mergeSort(arr, temp_arr, mid+1, right)\n",
        "    inv_count += merge(arr, temp_arr, left, mid, right)\n",
        "\n",
        "  return inv_count\n",
        "\n",
        "def merge(arr, temp_arr, left, mid, right):\n",
        "  i = left\n",
        "  j = mid+1\n",
        "\n",
        "  k = left\n",
        "  inv_count = 0\n",
        "\n",
        "  while i<= mid and j<= right:\n",
        "\n",
        "    if arr[i] <= arr[j]:\n",
        "      temp_arr[k] = arr[i]\n",
        "      k+=1\n",
        "      i+=1\n",
        "    else:\n",
        "      temp_arr[k] = arr[j]\n",
        "      inv_count += (mid-i + 1)\n",
        "      k+=1\n",
        "      j+=1\n",
        "  \n",
        "  while i <= mid:\n",
        "    temp_arr[k] = arr[i]\n",
        "    k += 1\n",
        "    i += 1\n",
        "  \n",
        "  while j <= right:\n",
        "    temp_arr[k] = arr[j]\n",
        "    k+=1\n",
        "    j+=1\n",
        "  \n",
        "  for loop_var in range (left, right+1):\n",
        "    arr[loop_var] = temp_arr[loop_var]\n",
        "\n",
        "  return inv_count\n",
        "\n",
        "file1 = open('plant.txt', 'r')\n",
        "Lines = file1.readlines()\n",
        "\n",
        "splitted = Lines[1].split()\n",
        "\n",
        "for i in range(len(splitted)):\n",
        "  splitted[i] = int(splitted[i])\n",
        "length = len(splitted)\n",
        "\n",
        "result = mergeSort(splitted, length)\n",
        "answer = result % (10**9+7)\n",
        "print(\"shsctf{\",result,\"}\")"
      ]
    }
  ]
}