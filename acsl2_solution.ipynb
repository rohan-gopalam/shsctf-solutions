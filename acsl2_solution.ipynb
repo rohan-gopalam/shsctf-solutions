{
  "nbformat": 4,
  "nbformat_minor": 0,
  "metadata": {
    "colab": {
      "name": "acsl2 solution.ipynb",
      "provenance": [],
      "include_colab_link": true
    },
    "kernelspec": {
      "name": "python3",
      "display_name": "Python 3"
    },
    "language_info": {
      "name": "python"
    }
  },
  "cells": [
    {
      "cell_type": "markdown",
      "metadata": {
        "id": "view-in-github",
        "colab_type": "text"
      },
      "source": [
        "<a href=\"https://colab.research.google.com/github/rohan-gopalam/shsctf-solutions/blob/main/acsl2_solution.ipynb\" target=\"_parent\"><img src=\"https://colab.research.google.com/assets/colab-badge.svg\" alt=\"Open In Colab\"/></a>"
      ]
    },
    {
      "cell_type": "code",
      "source": [
        "#ASCL Senior 3 programming competition 2 solution\n",
        "#Fibonacci Cypher Solver\n",
        "\n",
        "def fibCypher(option, num1, num2, key, msg):\n",
        "    # Write your code here\n",
        "    if option == \"E\":\n",
        "        inp = []\n",
        "        inp[:] = msg\n",
        "    elif option == \"D\":\n",
        "        inp = msg.split()\n",
        "        for i in range (len(inp)):\n",
        "            inp[i] = int(inp[i])\n",
        "    \n",
        "    fib = []\n",
        "    fib.append(num1)\n",
        "    fib.append(num2)\n",
        "    for i in range (2, len(inp)):\n",
        "        fib.append(fib[i-1] + fib[i-2])\n",
        "\n",
        "    answer = \"\"\n",
        "    \n",
        "    if option == \"E\":\n",
        "        fibASC = []\n",
        "        charASC = []\n",
        "        for i in range(len(inp)):\n",
        "            charASC.append(ord(inp[i]))\n",
        "        \n",
        "        for i in range(len(inp)):\n",
        "            changer = fib[i]\n",
        "            if i%2 == 0:\n",
        "                keyVal = ord(key) - 96\n",
        "                changedVal = ((keyVal + changer) % 26)\n",
        "                if (changedVal == 0):\n",
        "                    changedVal = 26\n",
        "                newChar = chr(changedVal + 96)\n",
        "            elif i%2 == 1:\n",
        "                keyVal = ord(key) - 96\n",
        "                changedVal = ((keyVal - changer) % 26)\n",
        "                if (changedVal == 0):\n",
        "                    changedVal = 26\n",
        "                newChar = chr(changedVal + 96)\n",
        "            \n",
        "            fibASC.append(ord(newChar))\n",
        "            print(ord(newChar))\n",
        "        print(fibASC)\n",
        "        for i in range (len(inp)):\n",
        "            term = 3*fibASC[i] + charASC[i]\n",
        "            answer = answer + str(term) + \" \"\n",
        "            \n",
        "    \n",
        "    elif option == \"D\":\n",
        "        fibASC = []\n",
        "        charASC = []\n",
        "        for i in range(len(inp)):\n",
        "            changer = fib[i]\n",
        "            if i%2 == 0:\n",
        "                keyVal = ord(key) - 96\n",
        "                changedVal = ((keyVal + changer) % 26)\n",
        "                if (changedVal == 0):\n",
        "                    changedVal = 26\n",
        "                newChar = chr(changedVal + 96)\n",
        "            elif i%2 == 1:\n",
        "                keyVal = ord(key) - 96\n",
        "                changedVal = ((keyVal - changer) % 26)\n",
        "                if (changedVal == 0):\n",
        "                    changedVal = 26\n",
        "                newChar = chr(changedVal + 96)\n",
        "            \n",
        "            fibASC.append(ord(newChar))\n",
        "            \n",
        "            charASCTemp = inp[i] - 3*fibASC[i]\n",
        "            \n",
        "            \n",
        "            answer = answer + str(chr(charASCTemp))\n",
        "        \n",
        "    return answer"
      ],
      "metadata": {
        "id": "ECbfzon-0N5M"
      },
      "execution_count": null,
      "outputs": []
    }
  ]
}