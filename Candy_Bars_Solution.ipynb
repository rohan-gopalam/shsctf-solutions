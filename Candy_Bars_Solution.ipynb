{
  "nbformat": 4,
  "nbformat_minor": 0,
  "metadata": {
    "colab": {
      "name": "Candy_Bars_Solution.ipynb",
      "provenance": [],
      "authorship_tag": "ABX9TyNSxjBq4ZHK2jli1Z9mYfbf",
      "include_colab_link": true
    },
    "kernelspec": {
      "name": "python3",
      "display_name": "Python 3"
    },
    "language_info": {
      "name": "python"
    }
  },
  "cells": [
    {
      "cell_type": "markdown",
      "metadata": {
        "id": "view-in-github",
        "colab_type": "text"
      },
      "source": [
        "<a href=\"https://colab.research.google.com/github/rohan-gopalam/shsctf-solutions/blob/main/Candy_Bars_Solution.ipynb\" target=\"_parent\"><img src=\"https://colab.research.google.com/assets/colab-badge.svg\" alt=\"Open In Colab\"/></a>"
      ]
    },
    {
      "cell_type": "code",
      "execution_count": 40,
      "metadata": {
        "colab": {
          "base_uri": "https://localhost:8080/"
        },
        "id": "uS9_RmnN_hch",
        "outputId": "4390d8f7-4cee-41f5-d96c-38b10ca2300b"
      },
      "outputs": [
        {
          "output_type": "stream",
          "name": "stdout",
          "text": [
            "shsctf{971252265}\n"
          ]
        }
      ],
      "source": [
        "#Candy Bars Solution\n",
        "#Tom has N candy bars numbered 1..N with differing lengths laid out on the table. \n",
        "#Jerry wants to steal them, \n",
        "#but depending on Tom's location relative to the table \n",
        "#it's more convenient for him to steal different sections of the candy bar layout. \n",
        "#Help him quickly determine the total length of candy bar\n",
        "# he would obtain if he steals a certain range of them. \n",
        "#The test case gives N and Q, \n",
        "#followed by a line with N numbers representing the lengths of the candy bars. \n",
        "#The next Q lines give a l_i and r_i, \n",
        "#indicating that Jerry steals candy bars between l_i and r_i, inclusive. \n",
        "#Find the total length for each query, \n",
        "#then find the sum of your answers mod 10^9+7.\n",
        "#Enter answers in the form of shsctf{answer}.\n",
        "\n",
        "file1 = open('candybars.txt', 'r')\n",
        "Lines = file1.readlines()\n",
        "\n",
        "bars = list(map(int, Lines[1].split()))\n",
        "\n",
        "prefixes = [bars[0]]\n",
        "for i in range (1,len(bars)):\n",
        "  prefixes.append(prefixes[i-1] + bars[i])\n",
        "\n",
        "cutters = []\n",
        "for l in range (2, len(Lines)):\n",
        "  cutters.append(list(map(int, Lines[l].split())))\n",
        "\n",
        "total_sum_answer = 0\n",
        "for cut in range (len(cutters)):\n",
        "  right_index = cutters[cut][1]\n",
        "  left_index = cutters[cut][0]\n",
        "  if left_index>1:\n",
        "    total_sum_answer += prefixes[right_index-1] - prefixes[left_index-2]\n",
        "  else:\n",
        "    total_sum_answer += prefixes[right_index-1]\n",
        "\n",
        "print(\"shsctf{\"+str(total_sum_answer % (10**9 + 7))+\"}\")\n"
      ]
    }
  ]
}