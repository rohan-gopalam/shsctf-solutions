{
  "nbformat": 4,
  "nbformat_minor": 0,
  "metadata": {
    "colab": {
      "name": "sha256 hash solution.ipynb",
      "provenance": [],
      "authorship_tag": "ABX9TyNw6fvJrFvOyrQo4f3ipXXt",
      "include_colab_link": true
    },
    "kernelspec": {
      "name": "python3",
      "display_name": "Python 3"
    },
    "language_info": {
      "name": "python"
    }
  },
  "cells": [
    {
      "cell_type": "markdown",
      "metadata": {
        "id": "view-in-github",
        "colab_type": "text"
      },
      "source": [
        "<a href=\"https://colab.research.google.com/github/rohan-gopalam/shsctf-solutions/blob/main/sha256_hash_solution.ipynb\" target=\"_parent\"><img src=\"https://colab.research.google.com/assets/colab-badge.svg\" alt=\"Open In Colab\"/></a>"
      ]
    },
    {
      "cell_type": "code",
      "execution_count": 2,
      "metadata": {
        "colab": {
          "base_uri": "https://localhost:8080/"
        },
        "id": "IdRTsCdpxgyj",
        "outputId": "4d91a587-9352-4ab4-ad13-2660ac0bac40"
      },
      "outputs": [
        {
          "output_type": "stream",
          "name": "stdout",
          "text": [
            "shsctf{ 212312311123 }\n"
          ]
        }
      ],
      "source": [
        "#sha256 hash solution\n",
        "#The SHA-256 hash (in hex) of a PIN consisting only of the digits 1, 2, and 3 is given.\n",
        "#Given that the PIN is at most 12 digits long, find it. \n",
        "#Enter answers in the form of shsctf{answer}\n",
        "\n",
        "import hashlib\n",
        "\n",
        "final = \"6b3f2ed0c7b5ff1c30c1823f9955ef8e2dfc685dfaad85be2b88c7d5aa6fdb5b\"\n",
        "\n",
        "possible_starts = []\n",
        "possibleChars = [1, 2, 3] \n",
        " \n",
        "def passGen(seq, length): \n",
        "  global possible_starts\n",
        "  if length == 0: \n",
        "    possible_starts.append(seq)\n",
        "  else: \n",
        "    for char in possibleChars: \n",
        "      passGen(seq+str(char), length-1) \n",
        "     \n",
        "#Edit line below with the length you want, instead of 5\n",
        "for i in range (1, 13):\n",
        "  passGen(\"\", i)\n",
        "\n",
        "for i in range (len(possible_starts)):\n",
        "  encoded = possible_starts[i].encode()\n",
        "  result = hashlib.sha256(encoded)\n",
        "  result = result.hexdigest()\n",
        "  if (result == final):\n",
        "    print (\"shsctf{\",possible_starts[i],\"}\")"
      ]
    }
  ]
}