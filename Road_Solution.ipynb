{
  "nbformat": 4,
  "nbformat_minor": 0,
  "metadata": {
    "colab": {
      "name": "Road Solution.ipynb",
      "provenance": [],
      "authorship_tag": "ABX9TyMXFEL+J0Av8uJA2d6Dahqo",
      "include_colab_link": true
    },
    "kernelspec": {
      "name": "python3",
      "display_name": "Python 3"
    },
    "language_info": {
      "name": "python"
    }
  },
  "cells": [
    {
      "cell_type": "markdown",
      "metadata": {
        "id": "view-in-github",
        "colab_type": "text"
      },
      "source": [
        "<a href=\"https://colab.research.google.com/github/rohan-gopalam/shsctf-solutions/blob/main/Road_Solution.ipynb\" target=\"_parent\"><img src=\"https://colab.research.google.com/assets/colab-badge.svg\" alt=\"Open In Colab\"/></a>"
      ]
    },
    {
      "cell_type": "code",
      "metadata": {
        "colab": {
          "base_uri": "https://localhost:8080/"
        },
        "id": "AXw8Pg3VCJzY",
        "outputId": "0d3d620d-e4ff-4d33-ad55-59dc3334cac3"
      },
      "source": [
        "#The road is divided into N segments. \n",
        "#Each segment of the road has two properties: \n",
        "#the length of that segment and what the speed limit was on that segment.\n",
        "#Joe’s journey contains M segments. \n",
        "#Each of these segments also has two properties: \n",
        "#the length of that segment and how fast Joe drove on that segment, both of which are integer values.\n",
        "#Given the information above, please determine \n",
        "#the maximum amount over the speed limit that Joe travels during any part of his journey.\n",
        "#Enter answers in the form of shsctf{answer}\n",
        "\n",
        "arrSpeed = [0]\n",
        "arrMph = [0]\n",
        "lengthspeed = [7,1,2,1,3,1,3,9,9,4,4,3,7,3,4,1,6,22,4,6]\n",
        "speed = [98,71,69,76,87,67,30,81,30,35,27,30,60,31,53,16,27,67,33,2]\n",
        "lengthmph = [3,2,5,9,3,4,6,5,3,1,4,2,1,3,16,7,1,2,10,13]\n",
        "mph = [5,92,27,13,1,25,13,6,22,22,4,1,15,51,4,18,39,24,8,2]\n",
        "\n",
        "max = 0\n",
        "num = 0\n",
        "for i in range(len(speed)):\n",
        "  for j in range (lengthspeed[i]):\n",
        "    arrSpeed.append(speed[i])\n",
        "\n",
        "for i in range (len(mph)):\n",
        "  for j in range (lengthmph[i]):\n",
        "    arrMph.append(mph[i])\n",
        "\n",
        "for i in range (101):\n",
        "  num = arrMph[i]-arrSpeed[i]\n",
        "  if num>max:\n",
        "    max = num\n",
        "\n",
        "\n",
        "print(\"shsctf{\",max,\"}\")\n",
        "\n"
      ],
      "execution_count": 1,
      "outputs": [
        {
          "output_type": "stream",
          "name": "stdout",
          "text": [
            "shsctf{ 0 }\n"
          ]
        }
      ]
    }
  ]
}