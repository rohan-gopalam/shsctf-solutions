{
  "nbformat": 4,
  "nbformat_minor": 0,
  "metadata": {
    "colab": {
      "name": "Find The Difference Solution.ipynb",
      "provenance": [],
      "authorship_tag": "ABX9TyPwfQpoCaVDRBfnxcA4RNE1",
      "include_colab_link": true
    },
    "kernelspec": {
      "name": "python3",
      "display_name": "Python 3"
    },
    "language_info": {
      "name": "python"
    }
  },
  "cells": [
    {
      "cell_type": "markdown",
      "metadata": {
        "id": "view-in-github",
        "colab_type": "text"
      },
      "source": [
        "<a href=\"https://colab.research.google.com/github/rohan-gopalam/shsctf-solutions/blob/main/Find_The_Difference_Solution.ipynb\" target=\"_parent\"><img src=\"https://colab.research.google.com/assets/colab-badge.svg\" alt=\"Open In Colab\"/></a>"
      ]
    },
    {
      "cell_type": "code",
      "execution_count": 1,
      "metadata": {
        "id": "ADZ0Wo4-v2H6",
        "outputId": "2ba9ce0f-c9e2-476b-b92a-cac3a60267d7",
        "colab": {
          "base_uri": "https://localhost:8080/"
        }
      },
      "outputs": [
        {
          "output_type": "stream",
          "name": "stdout",
          "text": [
            "shsctf{ shsctfcatchmeifYoucan }\n"
          ]
        }
      ],
      "source": [
        "answer = \"\"\n",
        "with open('file1.txt') as f:\n",
        "    file1 = f.read()\n",
        "with open('file2.txt') as k:\n",
        "    file2 = k.read()\n",
        "for i in range (len(file1)):\n",
        "  if file1[i] != file2[i]:\n",
        "    answer += file2[i]\n",
        "print(\"shsctf{\",answer,\"}\")\n"
      ]
    }
  ]
}