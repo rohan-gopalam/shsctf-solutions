{
  "nbformat": 4,
  "nbformat_minor": 0,
  "metadata": {
    "colab": {
      "name": "Overlapping Segments Solution.ipynb",
      "provenance": [],
      "authorship_tag": "ABX9TyNYdOWIjXPiTGg4o15XHGAW",
      "include_colab_link": true
    },
    "kernelspec": {
      "name": "python3",
      "display_name": "Python 3"
    },
    "language_info": {
      "name": "python"
    }
  },
  "cells": [
    {
      "cell_type": "markdown",
      "metadata": {
        "id": "view-in-github",
        "colab_type": "text"
      },
      "source": [
        "<a href=\"https://colab.research.google.com/github/rohan-gopalam/shsctf-solutions/blob/main/Overlapping_Segments_Solution.ipynb\" target=\"_parent\"><img src=\"https://colab.research.google.com/assets/colab-badge.svg\" alt=\"Open In Colab\"/></a>"
      ]
    },
    {
      "cell_type": "code",
      "execution_count": 8,
      "metadata": {
        "colab": {
          "base_uri": "https://localhost:8080/"
        },
        "id": "1a3uZJZATefm",
        "outputId": "11c15777-8d10-4225-f546-1b42c2096b9c"
      },
      "outputs": [
        {
          "output_type": "stream",
          "name": "stdout",
          "text": [
            "shsctf{642890902}\n"
          ]
        }
      ],
      "source": [
        "#Overlapping Segment Solution\n",
        "#Given two line segments on the number line, \n",
        "#find the amount of overlap between them. \n",
        "#The test case gives Q, the number of queries, \n",
        "#on the first line, \n",
        "#and the remaining Q lines give L_1, R_1, L_2, \n",
        "#and R_2 separated by spaces, \n",
        "#where L_1 and R_1 are the endpoints of the first segment \n",
        "#and L_2 and R_2 are endpoints of the second segment. \n",
        "#Find the sum of your answers to the queries mod 10^9 + 7. \n",
        "#Enter answers in the form of shsctf{answer}\n",
        "\n",
        "def summer (arr):\n",
        "  if arr[0] < arr[2] and arr[1] > arr[3]:\n",
        "    return arr[3] - arr[2]\n",
        "\n",
        "  elif arr[2] < arr[0] and arr[3] > arr[1]:\n",
        "    return arr[1] - arr[0]\n",
        "\n",
        "  elif arr[0] < arr[2] and arr[1] > arr[2]:\n",
        "    return arr[1] - arr[2]\n",
        "  \n",
        "  elif arr[2] < arr[0] and arr[3] > arr[0]:\n",
        "    return arr[3] - arr[0]\n",
        "  \n",
        "  else:\n",
        "    return 0\n",
        "\n",
        "file1 = open('overlapping-segments-1.txt', 'r')\n",
        "Lines = file1.readlines()\n",
        "cases = []\n",
        "total = 0\n",
        "\n",
        "for i in range (1, len(Lines)):\n",
        "  cases.append(list(map(int, Lines[i].split())))\n",
        "\n",
        "for i in range (len(cases)):\n",
        "  total += summer(cases[i])\n",
        "\n",
        "answer = total % (10**9 + 7)\n",
        "print(\"shsctf{\" + str(answer) + \"}\")"
      ]
    }
  ]
}