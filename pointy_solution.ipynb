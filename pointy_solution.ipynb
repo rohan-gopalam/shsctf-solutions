{
  "nbformat": 4,
  "nbformat_minor": 0,
  "metadata": {
    "colab": {
      "name": "pointy solution.ipynb",
      "provenance": [],
      "authorship_tag": "ABX9TyOiFRjB/y6+sq43RUHM7NJK",
      "include_colab_link": true
    },
    "kernelspec": {
      "name": "python3",
      "display_name": "Python 3"
    },
    "language_info": {
      "name": "python"
    }
  },
  "cells": [
    {
      "cell_type": "markdown",
      "metadata": {
        "id": "view-in-github",
        "colab_type": "text"
      },
      "source": [
        "<a href=\"https://colab.research.google.com/github/rohan-gopalam/shsctf-solutions/blob/main/pointy_solution.ipynb\" target=\"_parent\"><img src=\"https://colab.research.google.com/assets/colab-badge.svg\" alt=\"Open In Colab\"/></a>"
      ]
    },
    {
      "cell_type": "code",
      "execution_count": 10,
      "metadata": {
        "colab": {
          "base_uri": "https://localhost:8080/"
        },
        "id": "m2UwLUcQWhyl",
        "outputId": "7fb9702a-bbff-4fc6-cbd3-8a00fd2a5088"
      },
      "outputs": [
        {
          "output_type": "stream",
          "name": "stdout",
          "text": [
            "shsctf{-600 543 579}\n"
          ]
        }
      ],
      "source": [
        "#Pointy Solution\n",
        "#Find the triple `(x, y, z)` \n",
        "#where `x < y < z` in the array such \n",
        "#that `x + y + z` is closest to 521. \n",
        "#The input file is formatted as N, \n",
        "#the number of elements in the array, \n",
        "#followed with each element \n",
        "#of the array on a new line. \n",
        "#In the case of a tie, \n",
        "#find the lexicographically \n",
        "#smallest triple `(x,y,z)`. \n",
        "#Enter answers in the form of shsctf{x y z}.\n",
        "\n",
        "def solution(arr, x) :\n",
        "\n",
        "  arr.sort();\n",
        "\t\n",
        "  closestSum = []\n",
        "\n",
        "  for i in range(len(arr)-2):\n",
        "    ptr1 = i + 1\n",
        "    ptr2 = 9999\n",
        "\n",
        "    while (ptr1 < ptr2):\n",
        "\n",
        "      sum = arr[i] + arr[ptr1] + arr[ptr2]\n",
        "\n",
        "      #lexigrophically smallest means the smallest first 2 numbers\n",
        "      #so return as soon as possible\n",
        "      if (sum == x):\n",
        "        return ([arr[i], arr[ptr1], arr[ptr2]])\n",
        "  \n",
        "      # If sum is greater then x then decrement\n",
        "      # the second pointer to get a smaller sum\n",
        "      if (sum > x):\n",
        "        ptr2 -= 1\n",
        "  \n",
        "      # Else increment the first pointer\n",
        "      # to get a larger sum\n",
        "      else:\n",
        "        ptr1 += 1\n",
        "\n",
        "\t# Return the closest sum found\n",
        "  return -1\n",
        "\n",
        "# Driver code\n",
        "\n",
        "with open('pointy.txt') as f:\n",
        "  lines = f.readlines()\n",
        "arr = []\n",
        "for i in range (1, len(lines)):\n",
        "  arr.append(int(lines[i]))\n",
        "\n",
        "#if you test it there are no numbers that add \n",
        "#up to 521, and the first number is smaller\n",
        "#when making a triple for 522 instead of 520\n",
        "x = 522\n",
        "answer = solution(arr, x)\n",
        "\n",
        "string_return = str(answer[0]) + \" \" + str(answer[1]) + \" \" + str(answer[2])\n",
        "\n",
        "print(\"shsctf{\" + string_return + \"}\")"
      ]
    }
  ]
}