{
  "nbformat": 4,
  "nbformat_minor": 0,
  "metadata": {
    "colab": {
      "name": "tiling solution.ipynb",
      "provenance": [],
      "authorship_tag": "ABX9TyPDtELsyViG7NFNDJvBkWZJ",
      "include_colab_link": true
    },
    "kernelspec": {
      "name": "python3",
      "display_name": "Python 3"
    },
    "language_info": {
      "name": "python"
    }
  },
  "cells": [
    {
      "cell_type": "markdown",
      "metadata": {
        "id": "view-in-github",
        "colab_type": "text"
      },
      "source": [
        "<a href=\"https://colab.research.google.com/github/rohan-gopalam/shsctf-solutions/blob/main/tiling_solution.ipynb\" target=\"_parent\"><img src=\"https://colab.research.google.com/assets/colab-badge.svg\" alt=\"Open In Colab\"/></a>"
      ]
    },
    {
      "cell_type": "code",
      "execution_count": 1,
      "metadata": {
        "colab": {
          "base_uri": "https://localhost:8080/"
        },
        "id": "Xmq6iaAxyIbI",
        "outputId": "3c69457b-e22a-46bc-82b8-8e159d6b1481"
      },
      "outputs": [
        {
          "output_type": "stream",
          "name": "stdout",
          "text": [
            "shsctf{ 83524547 }\n"
          ]
        }
      ],
      "source": [
        "#tiling solution\n",
        "#Bob is trying to tile a 1 x 200 floor with 1 x 1 and 1 x 6 tiles. \n",
        "#Find the number of ways he can do so 10^9 + 7. \n",
        "#Enter answers in the form of shsctf{answer}\n",
        "\n",
        "tiles = [1, 6]\n",
        "dp = []\n",
        "for i in range (202):\n",
        "  dp.append(0)\n",
        "dp[0] = 1\n",
        "\n",
        "for i in range (1, 201):\n",
        "  for tile in tiles:\n",
        "    if tile > i:\n",
        "      continue\n",
        "    dp[i] += dp[i-tile]\n",
        "\n",
        "answer = dp[200] % (10**9 + 7)\n",
        "print(\"shsctf{\",answer,\"}\")"
      ]
    }
  ]
}